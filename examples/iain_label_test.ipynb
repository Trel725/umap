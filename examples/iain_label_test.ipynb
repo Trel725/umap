{
 "cells": [
  {
   "cell_type": "code",
   "execution_count": null,
   "id": "93210481",
   "metadata": {},
   "outputs": [],
   "source": [
    "import umap\n",
    "import numpy as np\n",
    "from sklearn.preprocessing import normalize\n",
    "import matplotlib.pyplot as plt\n",
    "%matplotlib inline\n",
    "\n"
   ]
  },
  {
   "cell_type": "code",
   "execution_count": null,
   "id": "4975c345",
   "metadata": {},
   "outputs": [],
   "source": [
    "IDs=[]\n",
    "X=[]\n",
    "with open(\"./iain_label_test.csv\",\"r\") as f:\n",
    "    s=f.readline()\n",
    "    while True:\n",
    "        s=f.readline()\n",
    "        if not s:\n",
    "            break \n",
    "        ID = s.split(\",\")[0]\n",
    "        x  = s[len(ID)+3:-3].split(\",\")\n",
    "        X.append(np.array(x))\n",
    "X = np.vstack(X)\n",
    "print(X.shape)\n",
    "        \n",
    "        \n",
    "    "
   ]
  },
  {
   "cell_type": "code",
   "execution_count": null,
   "id": "c2ad2e8b",
   "metadata": {},
   "outputs": [],
   "source": [
    "Xn = normalize( X, norm='l2', axis=0 )\n",
    "nclass = 2\n",
    "\n",
    "#\n",
    "#  Umap is somewhat usable for easy case (1),\n",
    "# but does not work so well for few labels (2)\n",
    "#which_labels = 1\n",
    "which_labels = 2\n",
    "\n",
    "if which_labels==1: # easy case\n",
    "    # alt. label everything 1/3 class 0, 1/3 class 1, 1/3 unlabeled(-1)\n",
    "    target = np.array(np.random.randint(0,3,X.shape[0]))[:,None]\n",
    "if which_labels==2: # very few labels, different class cardinalities\n",
    "    target = np.full((X.shape[0],1), -1, dtype=np.int8)\n",
    "    target[-10:-3] = 0\n",
    "    target[-3:] = 1\n",
    "\n",
    "print(\"target shape \",target.shape)\n",
    "print(\"target[-20:]\", target[-20:])\n",
    "\n",
    "# try defaults - like tutorial\n",
    "# Euclidean embedding\n",
    "Euc_map = umap.UMAP(random_state=42,\n",
    "                    metric='euclidean',\n",
    "                    #target_weight = 0.9,\n",
    "                    n_neighbors=9,\n",
    "                    #target_n_neighbors=3,\n",
    "                    #verbose=True\n",
    "   ).fit( Xn ) #, y=target )\n",
    "Cat_map = umap.UMAP(random_state=42,\n",
    "                    metric='categorical',\n",
    "                    n_neighbors=9 # horrible (and slow) int(X.shape[0]/2),\n",
    "             ).fit( target )\n",
    "\n",
    "#      print(\"UMAP ends SemiSupervised\")\n"
   ]
  },
  {
   "cell_type": "code",
   "execution_count": null,
   "id": "b83f149f",
   "metadata": {},
   "outputs": [],
   "source": [
    "print(Euc_map.embedding_)\n",
    "print(Cat_map.embedding_)"
   ]
  },
  {
   "cell_type": "code",
   "execution_count": null,
   "id": "d62a3625",
   "metadata": {},
   "outputs": [],
   "source": [
    "target"
   ]
  },
  {
   "cell_type": "code",
   "execution_count": null,
   "id": "ed122064",
   "metadata": {},
   "outputs": [],
   "source": [
    "tcolor = -0.5 + 12*((nclass-(target+1))/(nclass+1))\n",
    "\n",
    "print(Euc_map.embedding_[-3:])\n",
    "fig, ax = plt.subplots(1, figsize=(14, 10))\n",
    "plt.scatter(*Euc_map.embedding_.T, s=64.0, c=tcolor, cmap='viridis', alpha=1.0)\n",
    "plt.setp(ax, xticks=[], yticks=[])\n",
    "cbar = plt.colorbar(boundaries=np.arange(11)-0.5)\n",
    "cbar.set_ticks(np.arange(10))\n",
    "#cbar.set_ticklabels(classes)\n",
    "plt.title('UMAP Euclidean-only embedding');\n"
   ]
  },
  {
   "cell_type": "markdown",
   "id": "6d7b206f",
   "metadata": {},
   "source": [
    "Now with so few categorical labels, *everything* will essentially have distance 1.0\n",
    "to everything else.  Also if class oridinalities differ widely, there might be\n",
    "trouble in finding a decent knn setting.\n",
    "\n",
    "The unfortunate consequence is that same-labels should cluster, most of the *Cat_map* connectivity is just \"random noise\".  I worry that this noise will *infect* the combined\n",
    "graphs, later on!"
   ]
  },
  {
   "cell_type": "code",
   "execution_count": null,
   "id": "f2308ab9",
   "metadata": {},
   "outputs": [],
   "source": [
    "print(Cat_map.embedding_[-3:])\n",
    "fig, ax = plt.subplots(1, figsize=(14, 10))\n",
    "plt.scatter(*Cat_map.embedding_.T, s=60.0, c=tcolor, cmap='viridis', alpha=1.0)\n",
    "plt.setp(ax, xticks=[], yticks=[])\n",
    "cbar = plt.colorbar(boundaries=np.arange(11)-0.5)\n",
    "cbar.set_ticks(np.arange(10))\n",
    "#cbar.set_ticklabels(classes)\n",
    "plt.title('UMAP Categorical-only embedding');\n"
   ]
  },
  {
   "cell_type": "markdown",
   "id": "548d07a4",
   "metadata": {},
   "source": [
    "### Combining the two umap embeddings\n",
    "This can be done in a variety of ways.\n",
    "\n",
    "The default method is *intersection* of the two connectivity graphs.\n",
    "This means edges that are present in BOTH graphs get used.\n",
    "So if the Categorical labels are not within 9 knn of the Euclidean embedding,\n",
    "they essentially do nothing.\n",
    "\n",
    "You can see [umap examples of composing models](https://umap-learn.readthedocs.io/en/latest/composing_models.html) where the 'diamonds' dataset\n",
    "is most similar -- there are continuous variables like price, that can be combined\n",
    "with several ordinal classes for cut, grade, ...\n",
    "\n",
    "Let's see this in action for this toy problem."
   ]
  },
  {
   "cell_type": "code",
   "execution_count": null,
   "id": "5365d11c",
   "metadata": {},
   "outputs": [],
   "source": [
    "intersection_mapper = Euc_map * Cat_map  # *, +, - for intersection, union, difference\n",
    "#\n",
    "print(intersection_mapper.embedding_[-3:])\n",
    "fig, ax = plt.subplots(1, figsize=(14, 10))\n",
    "plt.scatter(*intersection_mapper.embedding_.T, s=60.0, c=tcolor, cmap='viridis', alpha=1.0)\n",
    "plt.setp(ax, xticks=[], yticks=[])\n",
    "cbar = plt.colorbar(boundaries=np.arange(11)-0.5)\n",
    "cbar.set_ticks(np.arange(10))\n",
    "#cbar.set_ticklabels(classes)\n",
    "plt.title('UMAP Intersection (Euc_map * Cat_map) embedding');\n",
    "#"
   ]
  },
  {
   "cell_type": "markdown",
   "id": "913e97fa",
   "metadata": {},
   "source": [
    "OK, that wasn't as bad as I expected.  Maybe adjusting Euc knn can help?\n",
    "\n",
    "So how about union?  Roughly, edges in either graph get used in the result."
   ]
  },
  {
   "cell_type": "code",
   "execution_count": null,
   "id": "5474b41d",
   "metadata": {},
   "outputs": [],
   "source": [
    "union_mapper = Euc_map + Cat_map  # *, +, - for intersection, union, difference\n",
    "#\n",
    "print(union_mapper.embedding_[-3:])\n",
    "fig, ax = plt.subplots(1, figsize=(14, 10))\n",
    "plt.scatter(*intersection_mapper.embedding_.T, s=60.0, c=tcolor, cmap='viridis', alpha=1.0)\n",
    "plt.setp(ax, xticks=[], yticks=[])\n",
    "cbar = plt.colorbar(boundaries=np.arange(11)-0.5)\n",
    "cbar.set_ticks(np.arange(10))\n",
    "#cbar.set_ticklabels(classes)\n",
    "plt.title('UMAP Union (Euc_map + Cat_map) embedding');\n",
    "#\n",
    "if False:\n",
    "    diff_mapper = Euc_map - Cat_map  # *, +, - for intersection, union, difference\n",
    "    #\n",
    "    print(diff_mapper.embedding_[-3:])\n",
    "    fig, ax = plt.subplots(1, figsize=(14, 10))\n",
    "    plt.scatter(*intersection_mapper.embedding_.T, s=10.0, c=target*100.0, cmap='prism', alpha=1.0)\n",
    "    plt.setp(ax, xticks=[], yticks=[])\n",
    "    cbar = plt.colorbar(boundaries=np.arange(11)-0.5)\n",
    "    cbar.set_ticks(np.arange(10))\n",
    "    #cbar.set_ticklabels(classes)\n",
    "    plt.title('UMAP Difference (Euc_map - Cat_map) embedding');\n",
    "#"
   ]
  },
  {
   "cell_type": "markdown",
   "id": "761e0c18",
   "metadata": {},
   "source": [
    "So not much difference.  Intersection does cluster, but really the weighting\n",
    "between Euclidean and Categorical is not so great.\n",
    "\n",
    "Looking into the '\\*' intersection operator  (method *\\_\\_mul\\_\\_*) it's basically\n",
    "runs *general_simplicial_set_intersection* (with default weight 0.5) and then\n",
    "fixes up the resulting graph.   It's a bit complicated to do by hand.  So I\n",
    "added a weight parameter to a new *mul\\_helper* version of *\\_\\_mul\\_\\_*, that\n",
    "takes an option *weight* parameter to pass into the general intersection."
   ]
  },
  {
   "cell_type": "code",
   "execution_count": null,
   "id": "ec5bd034",
   "metadata": {},
   "outputs": [],
   "source": [
    "if which_labels==1:\n",
    "    uw_map = Euc_map.__add__(Cat_map, weight=1)  # local modification of graph combiners to also accept a weight\n",
    "if which_labels==2:\n",
    "    uw_map = Euc_map.__add__(Cat_map, weight=0.999)  # local modification of graph combiners to also accept a weight\n",
    "# There is no effect noticable from combining the weight.\n",
    "# With so many unlabelled data, the categorical graph pushes almost everything unlabelled to \"far\".\n",
    "#\n",
    "print(uw_map.embedding_[-3:])\n",
    "fig, ax = plt.subplots(1, figsize=(14, 10))\n",
    "plt.scatter(*uw_map.embedding_.T, s=60.0, c=tcolor, cmap='viridis', alpha=1.0)\n",
    "plt.setp(ax, xticks=[], yticks=[])\n",
    "cbar = plt.colorbar(boundaries=np.arange(11)-0.5)\n",
    "cbar.set_ticks(np.arange(10))\n",
    "#cbar.set_ticklabels(classes)\n",
    "plt.title('UMAP a weighted union embedding');\n",
    "#"
   ]
  },
  {
   "cell_type": "code",
   "execution_count": null,
   "id": "4319cdd1",
   "metadata": {},
   "outputs": [],
   "source": [
    "if which_labels==1:\n",
    "    iw_map = Euc_map.__mul__(Cat_map, weight=0.42)  # local modification of graph combiners to also accept a weight\n",
    "if which_labels==2:\n",
    "    iw_map = Euc_map.__mul__(Cat_map, weight=0.43)  # local modification of graph combiners to also accept a weight\n",
    "# There is no effect noticable from combining the weight.\n",
    "# With so many unlabelled data, the categorical graph pushes almost everything unlabelled to \"far\".\n",
    "#\n",
    "print(iw_map.embedding_[-3:])\n",
    "fig, ax = plt.subplots(1, figsize=(14, 10))\n",
    "plt.scatter(*iw_map.embedding_.T, s=60.0, c=tcolor, cmap='viridis', alpha=1.0)\n",
    "plt.setp(ax, xticks=[], yticks=[])\n",
    "cbar = plt.colorbar(boundaries=np.arange(11)-0.5)\n",
    "cbar.set_ticks(np.arange(10))\n",
    "#cbar.set_ticklabels(classes)\n",
    "plt.title('UMAP Weighted intersection embedding');\n",
    "#"
   ]
  },
  {
   "cell_type": "code",
   "execution_count": null,
   "id": "1fa99bb9",
   "metadata": {},
   "outputs": [],
   "source": [
    "if which_labels==1:\n",
    "    tw = 1.1\n",
    "if which_labels==2:\n",
    "    # there is NO GOOD VALUE for the umap built-in to get clusters\n",
    "    tw = 0.99\n",
    "\n",
    "u_map = umap.UMAP(random_state=42,\n",
    "                    metric='euclidean',\n",
    "                    n_neighbors=9,\n",
    "                    target_metric='categorical',\n",
    "                    target_weight = tw,\n",
    "                    target_n_neighbors=9,\n",
    "                    #verbose=True\n",
    "   ).fit( Xn, y=target )\n",
    "print(u_map.embedding_[-3:])\n",
    "fig, ax = plt.subplots(1, figsize=(14, 10))\n",
    "plt.scatter(*u_map.embedding_.T, s=60.0, c=tcolor, cmap='viridis', alpha=1.0)\n",
    "plt.setp(ax, xticks=[], yticks=[])\n",
    "cbar = plt.colorbar(boundaries=np.arange(11)-0.5)\n",
    "cbar.set_ticks(np.arange(10))\n",
    "#cbar.set_ticklabels(classes)\n",
    "plt.title('UMAP semi-supervised embedding');\n",
    "#"
   ]
  },
  {
   "cell_type": "markdown",
   "id": "a20a345f",
   "metadata": {},
   "source": [
    "So the UMAP result looks *the same*, and \"washes out\" too much of the Euclidean graph. There is almost\n",
    "no effect from playing with n_neighbors, target_n_neighbors, or target_weight.\n",
    "\n",
    "### OK, so now for something different.\n",
    "A custom metric can be constructed as follows.\n",
    "\n",
    "1. append a one-hot class vector to X dimensions\n",
    "    - if no label, append a zero vector\n",
    "    - if label, set value in that dim to LBL (default 1.0)\n",
    "2. now euclidean metric can weight euclidean and categorical data *before* UMAP\n",
    "   constructs its knn graph.\n",
    "    - a *high LBL* value means the label data is effectively *more important*.\n"
   ]
  },
  {
   "cell_type": "code",
   "execution_count": null,
   "id": "42b3269e",
   "metadata": {},
   "outputs": [],
   "source": [
    "print(\"Xn.shape\",Xn.shape)\n",
    "print(\"nclasses\",nclass)\n",
    "xxshape = (Xn.shape[0], Xn.shape[1]+nclass)\n",
    "print(\"xxshape\",xxshape)\n",
    "Xx = np.zeros( xxshape, dtype=np.float64)\n",
    "print(\"Xx.shape\",Xx.shape)\n",
    "Xx[:,0:Xn.shape[1]] = Xn\n",
    "print(\"target shape\",target.shape)\n",
    "\n",
    "def xxlabel():\n",
    "    global LBL\n",
    "    for i in range(target.shape[0]):\n",
    "        #print(target[i,0])\n",
    "        lbl = target[i,0]\n",
    "        if lbl>=0: # i.e one of {0, ..., nclass-1}\n",
    "            Xx[i, Xn.shape[1]+lbl] = LBL\n",
    "\n",
    "LBL = 1.11111111111\n",
    "xxlabel()\n",
    "print(\"Xx[-4:]\",Xx[-4:])"
   ]
  },
  {
   "cell_type": "markdown",
   "id": "16e3e2ac",
   "metadata": {},
   "source": [
    "*Xn* has normalized item vectors.\n",
    "\n",
    "First we have extended dimensionality adding *nclass* zeros.\n",
    "Then if we had label C, we set the C'th added zero to a big value *LBL*.\n",
    "\n",
    "A big *LBL* puts same-class items *very far* from all other points, and\n",
    "close (original euclidean distance) to all same-class points.\n",
    "\n",
    "Distances between unlabeled items also retain their original euclidean distance.\n",
    "\n",
    "Distances from a labeled to other-label will tend to be higher than distances to unlabelled.\n",
    "\n",
    "(I think)  Let's see how this works out:"
   ]
  },
  {
   "cell_type": "code",
   "execution_count": null,
   "id": "8b7eeb65",
   "metadata": {},
   "outputs": [],
   "source": [
    "LBL = 0.1  # very tiny clustering one-hot dims -- not enough to force clusters\n",
    "xxlabel()\n",
    "# Euclidean embedding of Xx\n",
    "xxmap = umap.UMAP(random_state=42,\n",
    "                  metric='euclidean',\n",
    "                  n_neighbors=9,\n",
    "                 ).fit( Xx )\n",
    "fig, ax = plt.subplots(1, figsize=(14, 10))\n",
    "plt.scatter(*xxmap.embedding_.T, s=60.0, c=tcolor, cmap='viridis', alpha=1.0)\n",
    "plt.setp(ax, xticks=[], yticks=[])\n",
    "cbar = plt.colorbar(boundaries=np.arange(11)-0.5)\n",
    "cbar.set_ticks(np.arange(10))\n",
    "#cbar.set_ticklabels(classes)\n",
    "plt.title(f'UMAP Euc + {LBL=} embedding');\n",
    "#"
   ]
  },
  {
   "cell_type": "code",
   "execution_count": null,
   "id": "8da9fc04",
   "metadata": {},
   "outputs": [],
   "source": [
    "LBL = 1.0  # since Xn was normalized, even 1.0 is enough to cluster well\n",
    "xxlabel()\n",
    "xxmap = umap.UMAP(random_state=42,\n",
    "                  metric='euclidean',\n",
    "                  n_neighbors=9,\n",
    "                 ).fit( Xx )\n",
    "fig, ax = plt.subplots(1, figsize=(14, 10))\n",
    "plt.scatter(*xxmap.embedding_.T, s=60.0, c=tcolor, cmap='viridis', alpha=1.0)\n",
    "plt.setp(ax, xticks=[], yticks=[])\n",
    "cbar = plt.colorbar(boundaries=np.arange(11)-0.5)\n",
    "cbar.set_ticks(np.arange(10))\n",
    "#cbar.set_ticklabels(classes)\n",
    "plt.title(f'UMAP Euc + {LBL=} embedding');\n",
    "#"
   ]
  }
 ],
 "metadata": {
  "kernelspec": {
   "display_name": "Python 3 (ipykernel)",
   "language": "python",
   "name": "python3"
  },
  "language_info": {
   "codemirror_mode": {
    "name": "ipython",
    "version": 3
   },
   "file_extension": ".py",
   "mimetype": "text/x-python",
   "name": "python",
   "nbconvert_exporter": "python",
   "pygments_lexer": "ipython3",
   "version": "3.9.12"
  }
 },
 "nbformat": 4,
 "nbformat_minor": 5
}
