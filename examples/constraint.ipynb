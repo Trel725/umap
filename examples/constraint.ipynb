{
 "cells": [
  {
   "cell_type": "code",
   "execution_count": 1,
   "metadata": {},
   "outputs": [
    {
     "name": "stdout",
     "output_type": "stream",
     "text": [
      "Generating an initial embedding...\n",
      "umap-->optimize_layout_euclidean\n",
      "TRIAL: opt+mask+version 2\n",
      "constraints dict_keys([])\n",
      "fns_idx_pt []\n"
     ]
    }
   ],
   "source": [
    "from sklearn.datasets import load_iris\n",
    "import numpy as np\n",
    "import umap\n",
    "iris = load_iris()\n",
    "umapper0 = umap.UMAP(\n",
    "    n_neighbors=50, learning_rate=0.5, random_state=12345, min_dist=0.001,\n",
    "    init=\"random\", n_epochs=1,\n",
    ")\n",
    "print(\"Generating an initial embedding...\")\n",
    "emb0 = umapper0.fit_transform(iris.data)"
   ]
  },
  {
   "cell_type": "code",
   "execution_count": 2,
   "metadata": {},
   "outputs": [
    {
     "name": "stdout",
     "output_type": "stream",
     "text": [
      "Pinning embeddings of pts 13 and 14 to [-5,0] and [5,0]\n",
      "Specify 'init' embedding for umapper2\n",
      "Embed with pin_mask[13] and pin_mask[14] zero-vectors\n",
      "X.shape (150, 4)\n",
      "pin_mask.shape (150, 2)\n",
      "TRIAL: opt+mask+version 2\n",
      "pin_mask\n",
      "sample 13 pin head[ 0 ] begins at -5.0\n",
      "sample 13 pin head[ 1 ] begins at 0.0\n",
      "sample 14 pin head[ 0 ] begins at 5.0\n",
      "sample 14 pin head[ 1 ] begins at 0.0\n",
      "fns_idx_pt [CPUDispatcher(<function optimize_layout_euclidean_masked.<locals>.pin_mask_constraint at 0x7f3bae27e040>)]\n",
      "emb0[11:15]\n",
      " [[ 4.67359    3.3806326]\n",
      " [ 4.3936124  7.5779386]\n",
      " [-5.         0.       ]\n",
      " [ 5.         0.       ]]\n",
      "emb1[11:15]\n",
      " [[ 4.8219976  3.4963639]\n",
      " [ 4.2769303  7.3256326]\n",
      " [-5.         0.       ]\n",
      " [ 5.         0.       ]]\n",
      "\n",
      "Goodbye\n"
     ]
    }
   ],
   "source": [
    "print(\"Pinning embeddings of pts 13 and 14 to [-5,0] and [5,0]\")\n",
    "# pin embeddings of two data (13 and 14) to left and right of origin\n",
    "pin_mask = np.ones_like(emb0)\n",
    "pin_mask[13] = 0.0\n",
    "pin_mask[14] = 0.0\n",
    "emb0[13] = [-5.0, 0]\n",
    "emb0[14] = [+5.0, 0]\n",
    "print(\"Specify 'init' embedding for umapper2\")\n",
    "umapper1 = umap.UMAP(\n",
    "    n_neighbors=50, learning_rate=0.5, random_state=12346, min_dist=0.001,\n",
    "    init=emb0, n_epochs=2,\n",
    ")\n",
    "print(\"Embed with pin_mask[13] and pin_mask[14] zero-vectors\")\n",
    "emb1 = umapper1.fit_transform(iris.data, pin_mask=pin_mask)\n",
    "print(\"emb0[11:15]\\n\",emb0[11:15])\n",
    "print(\"emb1[11:15]\\n\",emb1[11:15])\n",
    "print(\"\\nGoodbye\")"
   ]
  },
  {
   "cell_type": "code",
   "execution_count": 3,
   "metadata": {},
   "outputs": [
    {
     "name": "stdout",
     "output_type": "stream",
     "text": [
      "Pinning embeddings of pts 13 and 14 to [-2,0] and [2,0]\n",
      "Specify 'init' embedding for umapper2\n",
      "Embed with pin_mask[13] and pin_mask[14] zero-vectors\n",
      "X.shape (150, 4)\n",
      "pin_mask keys dict_keys(['idx_pt'])\n",
      "TRIAL: opt+mask+version 2\n",
      "constraints dict_keys(['idx_pt'])\n",
      "kk,k 0 idx_pt\n",
      "fns_idx_pt [CPUDispatcher(<function constraint_idx_pt0 at 0x7f3bae27e040>)]\n",
      "emb0[11:15]\n",
      " [[ 4.67359    3.3806326]\n",
      " [ 4.3936124  7.5779386]\n",
      " [-2.         0.       ]\n",
      " [ 2.         0.       ]]\n",
      "emb1[11:15]\n",
      " [[ 4.8219976  3.4963639]\n",
      " [ 4.2769303  7.3256326]\n",
      " [-2.         0.       ]\n",
      " [ 2.         0.       ]]\n",
      "\n",
      "Goodbye\n"
     ]
    }
   ],
   "source": [
    "print(\"Pinning embeddings of pts 13 and 14 to [-2,0] and [2,0]\")\n",
    "# pin embeddings of two data (13 and 14) to left and right of origin\n",
    "# via a custom constraint.  inf get no-op, other values get fixed\n",
    "import umap.constraints2 as con\n",
    "import numba\n",
    "infs0 = np.full_like(emb0, np.float32(np.inf), dtype=np.float32)\n",
    "infs0[13,:] = [-2.0,0]\n",
    "infs0[14,:] = [+2.0,0]\n",
    "@numba.njit()\n",
    "def constraint_idx_pt0(idx,pt):\n",
    "    con.freeinf_pt(idx,pt, infs0)\n",
    "    \n",
    "constraints = {\n",
    "    'idx_pt': constraint_idx_pt0,\n",
    "}\n",
    "# optional: set up the values to agree\n",
    "#emb0[13] = [-2.0, 0]\n",
    "#emb0[14] = [+2.0, 0]\n",
    "# Here is the \"move all points\" version of con.freeinf\n",
    "con.freeinf_pts(emb0, infs0)\n",
    "\n",
    "assert np.all(emb0[13] == [-2.0,0])\n",
    "assert np.all(emb0[14] == [+2.0,0])\n",
    "print(\"Specify 'init' embedding for umapper2\")\n",
    "umapper2 = umap.UMAP(\n",
    "    n_neighbors=50, learning_rate=0.5, random_state=12346, min_dist=0.001,\n",
    "    init=emb0, n_epochs=2,\n",
    ")\n",
    "print(\"Embed with pin_mask[13] and pin_mask[14] zero-vectors\")\n",
    "emb1 = umapper1.fit_transform(iris.data, pin_mask=constraints)\n",
    "print(\"emb0[11:15]\\n\",emb0[11:15])\n",
    "print(\"emb1[11:15]\\n\",emb1[11:15])\n",
    "print(\"\\nGoodbye\")"
   ]
  },
  {
   "cell_type": "code",
   "execution_count": 4,
   "metadata": {},
   "outputs": [
    {
     "name": "stdout",
     "output_type": "stream",
     "text": [
      "\n",
      "<class 'tuple'> () 0 0\n",
      "<class 'tuple'> (<function sort at 0x7f3be417db80>, 1, 2, 3) 1 1\n",
      "<function sort at 0x7f3be417db80> 1 (1, 2, 3) <class 'tuple'>\n",
      "<function sort at 0x7f3be417db80> 1 (1,) <class 'tuple'>\n",
      "3.14 () <class 'tuple'> 1 0\n",
      "3.14\n"
     ]
    }
   ],
   "source": [
    "import numpy as np\n",
    "a = tuple()\n",
    "print(*a)\n",
    "print(type(a),a, a.count(1), len(a))  # a.index(1) ValueError\n",
    "a = tuple((np.sort,1,2,3))\n",
    "print(type(a),a, a.count(1), a.index(1))\n",
    "print(a[0], a[1], a[1:], type(a[1:]))\n",
    "a = tuple((np.sort,1))\n",
    "print(a[0], a[1], a[1:], type(a[1:]))\n",
    "a = (3.14,)\n",
    "print(a[0], a[1:], type(a[1:]), len(a), len(a[1:]))\n",
    "print(*a)"
   ]
  },
  {
   "cell_type": "code",
   "execution_count": 5,
   "metadata": {},
   "outputs": [
    {
     "name": "stdout",
     "output_type": "stream",
     "text": [
      "[[ True  True]\n",
      " [False False]]\n"
     ]
    }
   ],
   "source": [
    "a = np.array([[1,2],[3,4]])\n",
    "b = np.array([[0,0],[1,1]])\n",
    "def foo(a,b):\n",
    "    a = np.where( b==0, a, 13)  # a is NOT modified-in-place\n",
    "    return a\n",
    "def bar(a,b):\n",
    "    a[:,:] = np.where( b==0, a, 15)  # a IS modified-in-place\n",
    "    #^^^^^\n",
    "    return a\n",
    "print(b==0)\n",
    "#\n",
    "# foo DOES NOT modify in place\n",
    "#\n",
    "aa = a.copy()\n",
    "x = foo(aa,b)\n",
    "#print(\"a\\n\", a, \"\\naa\\n\", aa, \"\\nx\\n\", x)\n",
    "assert np.all(aa==a)\n",
    "assert np.all(x[1] == 13)\n",
    "#\n",
    "# but bar DOES\n",
    "#\n",
    "aa = a.copy()\n",
    "x = bar(aa,b)\n",
    "#print(\"a\\n\", a, \"\\naa\\n\", aa, \"\\nx\\n\", x)\n",
    "assert np.all(aa==x)\n",
    "assert np.all(x[1] == 15)\n"
   ]
  },
  {
   "cell_type": "code",
   "execution_count": 6,
   "metadata": {},
   "outputs": [
    {
     "name": "stdout",
     "output_type": "stream",
     "text": [
      "<class 'tuple'> (1, 2, 3, 4, 5, 6)\n",
      "<class 'list'> [1, 2, 3, 4, 5, 7, 8, 9]\n",
      "(1, 2, 3, 4, 5, 7, 8, 9)\n"
     ]
    }
   ],
   "source": [
    "a = (1,2,3)\n",
    "b = (4,5)\n",
    "a += b\n",
    "a += (6,)\n",
    "#a.ext((7,))\n",
    "print(type(a),a)\n",
    "a = [1,2,3]\n",
    "a.extend([4,5])\n",
    "a.extend([7])\n",
    "a.extend([])\n",
    "a+=[8,9]\n",
    "print(type(a),a)\n",
    "print(tuple(tuple(a)))\n",
    "#"
   ]
  },
  {
   "cell_type": "code",
   "execution_count": 7,
   "metadata": {},
   "outputs": [
    {
     "name": "stdout",
     "output_type": "stream",
     "text": [
      "2 1\n",
      "no-op\n",
      "2 1\n",
      "2 1\n",
      "add 2\n",
      "2 3\n",
      "2 1\n",
      "add 2\n",
      "mul 2\n",
      "2 6\n",
      "2 1\n",
      "add 2\n",
      "mul 2\n",
      "add 2\n",
      "add 2\n",
      "2 10\n",
      "type(CPUDispatcher(<function _chain_idx_pt.<locals>.wrap at 0x7f3bae5e0af0>))\n",
      "2 1\n",
      "add 2\n",
      "mul 2\n",
      "add 2\n",
      "add 2\n",
      "gpass None\n",
      "2 10\n"
     ]
    }
   ],
   "source": [
    "import numba\n",
    "@numba.njit()\n",
    "def _fn_idx_pt_noop(idx,pt):\n",
    "    print(\"no-op\")\n",
    "    return None\n",
    "def _chain_idx_pt(fs, inner=None):\n",
    "    # for f in tuple 'fs' invoke f, where fs is a tuple of jitted functions(idx,pt)\n",
    "    if len(fs) == 0:\n",
    "        assert inner is None\n",
    "        return _fn_idx_pt_noop\n",
    "    head = fs[0]\n",
    "    #@numba.njit()\n",
    "    #def wrap(idx,pt):\n",
    "    #    #return head(inner(idx,pt))\n",
    "    #    if inner is not None:\n",
    "    #       inner(idx,pt)\n",
    "    #    head(idx,pt)\n",
    "    if inner is None:\n",
    "        @numba.njit()\n",
    "        def wrap(idx,pt):\n",
    "            head(idx,pt)\n",
    "    else:\n",
    "        @numba.njit()\n",
    "        def wrap(idx,pt):\n",
    "            inner(idx,pt)\n",
    "            head(idx,pt)\n",
    "    if len(fs) > 1:\n",
    "        tail = fs[1:]\n",
    "        return _chain_idx_pt(tail, wrap)\n",
    "    else:\n",
    "        return wrap\n",
    "@numba.njit()\n",
    "def f1(idx,pt):\n",
    "    print(\"add\",idx)\n",
    "    pt += idx\n",
    "@numba.njit()\n",
    "def f2(idx,pt):\n",
    "    print(\"mul\",idx)\n",
    "    pt *= idx\n",
    "\n",
    "g = _chain_idx_pt(tuple())\n",
    "idx = np.array(2); pt=np.array(1); print(idx,pt); \n",
    "g(idx,pt); print(idx,pt)\n",
    "\n",
    "g = _chain_idx_pt((f1,))\n",
    "idx = np.array(2); pt=np.array(1); print(idx,pt); \n",
    "g(idx,pt); print(idx,pt)\n",
    "\n",
    "g = _chain_idx_pt((f1,f2))\n",
    "idx = np.array(2); pt=np.array(1); print(idx,pt); \n",
    "g(idx,pt); print(idx,pt)\n",
    "\n",
    "# does it work with [...]? yes\n",
    "g = _chain_idx_pt([f1,f2,f1,f1])\n",
    "idx = np.array(2); pt=np.array(1); print(idx,pt); \n",
    "g(idx,pt); print(idx,pt)\n",
    "print(numba.typeof(g))\n",
    "\n",
    "@numba.njit()\n",
    "def gpass(f,idx,pt):\n",
    "    print(\"gpass\",f(idx,pt))\n",
    "idx = np.array(2); pt=np.array(1); print(idx,pt); \n",
    "gpass(g,idx,pt)\n",
    "print(idx,pt)"
   ]
  },
  {
   "cell_type": "code",
   "execution_count": 8,
   "metadata": {},
   "outputs": [
    {
     "data": {
      "text/plain": [
       "{1: 3, 2: 4}"
      ]
     },
     "execution_count": 8,
     "metadata": {},
     "output_type": "execute_result"
    }
   ],
   "source": [
    "a = {1:2, 2:4, 1:3}\n",
    "a\n"
   ]
  },
  {
   "cell_type": "code",
   "execution_count": 9,
   "metadata": {},
   "outputs": [
    {
     "name": "stdout",
     "output_type": "stream",
     "text": [
      "[[inf inf inf]\n",
      " [inf inf inf]\n",
      " [inf inf inf]]\n",
      "<class 'numpy.ndarray'> [[inf inf inf]\n",
      " [inf inf inf]\n",
      " [inf inf inf]]\n"
     ]
    }
   ],
   "source": [
    "a = np.ones((3,3))\n",
    "x = np.full_like(a, np.inf, dtype=np.float32)\n",
    "print(x)\n",
    "print(type(x), str(x))"
   ]
  },
  {
   "cell_type": "code",
   "execution_count": 10,
   "metadata": {},
   "outputs": [],
   "source": [
    "#a = [[1,2],[3],[4,5,6]]\n",
    "#a.flatten()  # no flatten function"
   ]
  },
  {
   "cell_type": "code",
   "execution_count": null,
   "metadata": {},
   "outputs": [],
   "source": []
  },
  {
   "cell_type": "code",
   "execution_count": null,
   "metadata": {},
   "outputs": [],
   "source": []
  },
  {
   "cell_type": "code",
   "execution_count": null,
   "metadata": {},
   "outputs": [],
   "source": []
  }
 ],
 "metadata": {
  "kernelspec": {
   "display_name": "Python [conda env:miru]",
   "language": "python",
   "name": "conda-env-miru-py"
  },
  "language_info": {
   "codemirror_mode": {
    "name": "ipython",
    "version": 3
   },
   "file_extension": ".py",
   "mimetype": "text/x-python",
   "name": "python",
   "nbconvert_exporter": "python",
   "pygments_lexer": "ipython3",
   "version": "3.9.4"
  }
 },
 "nbformat": 4,
 "nbformat_minor": 4
}
