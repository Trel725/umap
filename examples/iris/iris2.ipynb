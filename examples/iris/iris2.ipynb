{
 "cells": [
  {
   "cell_type": "markdown",
   "metadata": {},
   "source": [
    "### pin_mask demo\n",
    "- We get a $1^{st}$ embedding (using random init)\n",
    "- linearly transform so \"good\" and \"bad\" samples so their x values end up at [-1,+1]\n",
    "- then re-embed \"pinning\" those x values\n",
    "    - (could random-init by-hand, then fix x values for single pin_mask umap fit)\n",
    "- umap applies no gradient (but does apply rescaling)\n",
    "- we determine the new linear rescaling\n",
    "- and remap the embedding back to good|bad x-values -1|+1\n",
    "\n",
    "### Next (other notebooks)\n",
    "- Kinda' works, but perhaps want additional constraints, like\n",
    "  clipping ALL x values to range -1,+1 ?\n",
    "   - Alt. select the lowest|highest feature *of each species* (target)\n",
    "     and add one each to good|bad sets  (should look way different)\n",
    "- perhaps better to ROTATE (see Kabsch algorithm)\n",
    "  such that good|bad points are aligned *towards* (-1,0)|(+1,0)\n",
    "   - then rescale and shift to put their x-centroids exactly at (-1,0)|(+1,0)"
   ]
  },
  {
   "cell_type": "code",
   "execution_count": 1,
   "metadata": {},
   "outputs": [],
   "source": [
    "from bokeh.plotting import figure, output_file, show\n",
    "from bokeh.models import CategoricalColorMapper, ColumnDataSource\n",
    "from bokeh.palettes import Category10\n",
    "\n",
    "import umap\n",
    "from sklearn.datasets import load_iris"
   ]
  },
  {
   "cell_type": "code",
   "execution_count": 2,
   "metadata": {},
   "outputs": [],
   "source": [
    "iris = load_iris()"
   ]
  },
  {
   "cell_type": "code",
   "execution_count": 3,
   "metadata": {},
   "outputs": [
    {
     "name": "stdout",
     "output_type": "stream",
     "text": [
      "<class 'numpy.ndarray'>\n",
      "[[5.1 3.5 1.4 0.2]\n",
      " [4.9 3.  1.4 0.2]\n",
      " [4.7 3.2 1.3 0.2]\n",
      " [4.6 3.1 1.5 0.2]\n",
      " [5.  3.6 1.4 0.2]\n",
      " [5.4 3.9 1.7 0.4]\n",
      " [4.6 3.4 1.4 0.3]\n",
      " [5.  3.4 1.5 0.2]\n",
      " [4.4 2.9 1.4 0.2]\n",
      " [4.9 3.1 1.5 0.1]]\n",
      "[0 0 0 0 0 0 0 0 0 0]\n",
      "['setosa' 'versicolor' 'virginica']\n",
      "['sepal length (cm)', 'sepal width (cm)', 'petal length (cm)', 'petal width (cm)']\n",
      "feature_of_interest 0\n",
      "good10 [13 42 38  8] \n",
      "data of goods:\n",
      " [[4.3 3.  1.1 0.1]\n",
      " [4.4 3.2 1.3 0.2]\n",
      " [4.4 3.  1.3 0.2]\n",
      " [4.4 2.9 1.4 0.2]]\n",
      "bad10 [118 117 135 131] \n",
      "data of bads:\n",
      " [[7.7 2.6 6.9 2.3]\n",
      " [7.7 3.8 6.7 2.2]\n",
      " [7.7 3.  6.1 2.3]\n",
      " [7.9 3.8 6.4 2. ]]\n"
     ]
    }
   ],
   "source": [
    "print(type(iris.data))\n",
    "print(iris.data[0:10,])\n",
    "print(iris.target[0:10])\n",
    "print(iris.target_names)\n",
    "print(iris.feature_names)\n",
    "# I'm interested in feature 0 (sepal length) really small.\n",
    "# choose 2 \"interesting\" examples and 2 uninteresting\n",
    "feature_of_interest = 0\n",
    "nFeat = 4\n",
    "print(\"feature_of_interest\",feature_of_interest)\n",
    "data_of_interest = iris.data[:,feature_of_interest]\n",
    "import numpy as np\n",
    "best = np.argmin(data_of_interest)\n",
    "#good3 = np.argpartition(iris.data[:,0], 3)\n",
    "#print(\"good\",good, \"good3\",good3)\n",
    "#print(iris.data[good3,])\n",
    "goods = np.argsort(data_of_interest)\n",
    "good10 = goods[0:nFeat]\n",
    "print(\"good10\",good10,\n",
    "      \"\\ndata of goods:\\n\",iris.data[good10,])\n",
    "bad10 = goods[-nFeat:,]\n",
    "print(\"bad10\",bad10,\n",
    "      \"\\ndata of bads:\\n\",iris.data[bad10])\n",
    "#"
   ]
  },
  {
   "cell_type": "code",
   "execution_count": 4,
   "metadata": {},
   "outputs": [
    {
     "name": "stdout",
     "output_type": "stream",
     "text": [
      "[[13.903257   6.715585 ]\n",
      " [12.864181   5.927591 ]\n",
      " [12.816177   6.367345 ]\n",
      " [12.600025   6.5241337]\n",
      " [13.792113   6.9806633]]\n"
     ]
    }
   ],
   "source": [
    "embedding = umap.UMAP(\n",
    "    n_neighbors=50, learning_rate=0.5, init=\"random\", min_dist=0.001\n",
    ").fit_transform(iris.data)\n",
    "print(embedding[0:5,])"
   ]
  },
  {
   "cell_type": "code",
   "execution_count": 5,
   "metadata": {},
   "outputs": [
    {
     "name": "stdout",
     "output_type": "stream",
     "text": [
      "good10:\n",
      " [[12.468941   6.4441166]\n",
      " [12.493552   6.447857 ]\n",
      " [12.429651   6.2999654]\n",
      " [12.539996   6.233395 ]]\n",
      "bad10:\n",
      " [[0.4277385  0.5804448 ]\n",
      " [0.2932484  0.8172438 ]\n",
      " [0.66964686 0.7818548 ]\n",
      " [0.35314932 0.8300789 ]]\n"
     ]
    }
   ],
   "source": [
    "print(\"good10:\\n\", embedding[good10,])\n",
    "print(\"bad10:\\n\",  embedding[bad10,])"
   ]
  },
  {
   "cell_type": "code",
   "execution_count": 6,
   "metadata": {},
   "outputs": [
    {
     "name": "stdout",
     "output_type": "stream",
     "text": [
      "<class 'numpy.ndarray'> <class 'numpy.ndarray'> (8,) (8,)\n",
      "<class 'numpy.ndarray'> (8, 2) \n",
      "\n",
      "m,c -0.166 1.072\n",
      "fit [-0.99735665 -1.0014412  -0.9908359  -1.0091493   1.001058    1.0233786\n",
      "  0.9609097   1.0134372 ]\n",
      "good10:\n",
      " [[-0.99735665 -1.0694959 ]\n",
      " [-1.0014412  -1.0701166 ]\n",
      " [-0.9908359  -1.0455719 ]\n",
      " [-1.0091493  -1.0345236 ]]\n",
      "bad10:\n",
      " [[ 1.001058   -0.09633335]\n",
      " [ 1.0233786  -0.13563363]\n",
      " [ 0.9609097  -0.12976031]\n",
      " [ 1.0134372  -0.1377638 ]]\n"
     ]
    }
   ],
   "source": [
    "# simulate drag'n'drop of goods to left, bads to right\n",
    "\n",
    "#\n",
    "# method 0: naive, brute force\n",
    "#\n",
    "#embedding[good10,0] = -1.0\n",
    "#embedding[bad10,0] = +1.0\n",
    "# --- without clamping, we totally lose the \"init\" state\n",
    "\n",
    "#\n",
    "# method 1: \"best\" linear transform of x-coords of embedding\n",
    "#\n",
    "# y = [e 1] @ [m c] st. e'[good10,][0] ~ -1 and e'[bad10,][0] ~ 1\n",
    "e = np.hstack([embedding[good10,0], embedding[bad10,0]])\n",
    "# hoping for first half ~ -1, rest ~ +1\n",
    "y = np.hstack((np.repeat(-1,nFeat), np.repeat(+1,nFeat)))\n",
    "print(type(e), type(y), e.shape, y.shape)\n",
    "assert( e.size == y.size )\n",
    "A = np.vstack([e, np.ones(len(e))]).T  # add a one's column\n",
    "print(type(A), A.shape, \"\\n\")\n",
    "#print(A)\n",
    "#print(y)\n",
    "\n",
    "#x, residuals, rank, s = np.linalg.lstsq(A, y, rcond=None)\n",
    "#print(\"lstsq -> x=\",x)\n",
    "#m,c = x\n",
    "m,c = np.linalg.lstsq(A, y, rcond=None)[0]\n",
    "print(\"m,c\",np.round(m,3),np.round(c,3))\n",
    "print(\"fit\",m*e+c)\n",
    "\n",
    "# re-embed all data w/ \"best\" linear transform of 'x' values\n",
    "# rescale 'y' too, (keep rel. distances, don't care about y shift)\n",
    "embedding[:,0] = m * embedding[:,0] + c\n",
    "embedding[:,1] = m * embedding[:,1]\n",
    "print(\"good10:\\n\", embedding[good10,])\n",
    "print(\"bad10:\\n\",  embedding[bad10,])"
   ]
  },
  {
   "cell_type": "code",
   "execution_count": 7,
   "metadata": {},
   "outputs": [
    {
     "name": "stdout",
     "output_type": "stream",
     "text": [
      "embedding.shape (150, 2)\n",
      "good10:\n",
      " [[-1.        -1.0694959]\n",
      " [-1.        -1.0701166]\n",
      " [-1.        -1.0455719]\n",
      " [-1.        -1.0345236]]\n",
      "bad10:\n",
      " [[ 1.         -0.09633335]\n",
      " [ 1.         -0.13563363]\n",
      " [ 1.         -0.12976031]\n",
      " [ 1.         -0.1377638 ]]\n",
      "pin_mask.shape (150, 2)\n",
      "pin_mask good10:\n",
      " [[0. 1.]\n",
      " [0. 1.]\n",
      " [0. 1.]\n",
      " [0. 1.]]\n",
      "pin_mask bad10:\n",
      " [[0. 1.]\n",
      " [0. 1.]\n",
      " [0. 1.]\n",
      " [0. 1.]]\n",
      "X.shape (150, 4)\n",
      "pin_mask.shape (150, 2)\n",
      "[[ 0.04604377 -6.580897  ]\n",
      " [ 1.5367963  -7.3100147 ]\n",
      " [ 1.1492391  -6.6632104 ]\n",
      " [ 1.4486405  -6.932836  ]\n",
      " [ 0.1381167  -6.481616  ]\n",
      " [-0.58508676 -7.459905  ]\n",
      " [ 1.0509185  -6.6677833 ]\n",
      " [ 0.31262717 -6.913281  ]\n",
      " [ 1.3265676  -6.698701  ]\n",
      " [ 1.2562423  -7.2469254 ]]\n",
      "good10:\n",
      " [[ 1.3265676 -6.6372375]\n",
      " [ 1.3265676 -6.705507 ]\n",
      " [ 1.3265676 -6.738461 ]\n",
      " [ 1.3265676 -6.698701 ]]\n",
      "bad10:\n",
      " [[8.238885  6.6861544]\n",
      " [8.238885  6.484263 ]\n",
      " [8.238885  6.662115 ]\n",
      " [8.238885  6.5353355]]\n",
      "umap --> good,bad= 1.3265676 8.238885\n",
      "A\n",
      " [[1.32656765 1.        ]\n",
      " [8.23888493 1.        ]] \n",
      "y\n",
      " [-1.  1.]\n",
      "m,c 0.289 -1.384\n",
      "fit [-1.  1.]\n"
     ]
    }
   ],
   "source": [
    "embedding[good10,0] = -1\n",
    "embedding[bad10,0]  = +1\n",
    "print(\"embedding.shape\",embedding.shape)\n",
    "print(\"good10:\\n\", embedding[good10,])\n",
    "print(\"bad10:\\n\",  embedding[bad10,])# re-embed just with new init conditions\n",
    "pin_mask = np.ones(embedding.shape, dtype=np.float32) # todo: allow float32\n",
    "pin_mask[good10,0] = 0.0 # zero gradient, so zero movement of init embedding\n",
    "pin_mask[bad10,0] = 0.0\n",
    "print(\"pin_mask.shape\",pin_mask.shape)\n",
    "print(\"pin_mask good10:\\n\", pin_mask[good10,])\n",
    "print(\"pin_mask bad10:\\n\",  pin_mask[bad10,])# re-embed just with new init conditions\n",
    "#   NOTE: should have pin_mask in UMAP constructor !\n",
    "embedder = umap.UMAP(\n",
    "    n_neighbors=50, learning_rate=0.5, init=embedding, min_dist=0.001\n",
    ")\n",
    "embedding = embedder.fit_transform(iris.data, pin_mask=pin_mask)\n",
    "print(embedding[0:10,])\n",
    "print(\"good10:\\n\", embedding[good10,])\n",
    "print(\"bad10:\\n\",  embedding[bad10,])\n",
    "# Oh-oh.  umap is doing some internal rescaling -- let's undo that.\n",
    "goodx = embedding[good10[0],0]\n",
    "badx  = embedding[bad10[0],0]\n",
    "print(\"umap --> good,bad=\",goodx,badx)\n",
    "x = np.array([goodx,badx])\n",
    "A = np.array([[goodx,1.0],[badx,1.0]])\n",
    "y = np.array([-1.0,1.0])\n",
    "print(\"A\\n\",A,\"\\ny\\n\",y)\n",
    "m, c = np.linalg.lstsq(A, y, rcond=None)[0]\n",
    "print(\"m,c\",np.round(m,3),np.round(c,3))\n",
    "print(\"fit\",m*x+c)\n",
    "# scaling factor applies to BOTH x and y\n",
    "embedding[:,0] = m*embedding[:,0] + c\n",
    "embedding[:,1] = m*embedding[:,1]"
   ]
  },
  {
   "cell_type": "code",
   "execution_count": 8,
   "metadata": {},
   "outputs": [],
   "source": [
    "output_file(\"iris2.html\")\n",
    "\n",
    "targets = [str(d) for d in iris.target_names]\n",
    "\n",
    "source = ColumnDataSource(\n",
    "    dict(\n",
    "        x=[e[0] for e in embedding],\n",
    "        y=[e[1] for e in embedding],\n",
    "        label=[targets[d] for d in iris.target],\n",
    "    )\n",
    ")\n",
    "\n",
    "cmap = CategoricalColorMapper(factors=targets, palette=Category10[10])\n",
    "\n",
    "p = figure(title=\"Test UMAP on Iris dataset\")\n",
    "p.circle(\n",
    "    x=\"x\",\n",
    "    y=\"y\",\n",
    "    source=source,\n",
    "    color={\"field\": \"label\", \"transform\": cmap},\n",
    "    legend_label=\"label\",\n",
    ")\n",
    "\n",
    "show(p)"
   ]
  },
  {
   "cell_type": "code",
   "execution_count": 9,
   "metadata": {},
   "outputs": [
    {
     "name": "stdout",
     "output_type": "stream",
     "text": [
      "A\n",
      " [[0. 1.]\n",
      " [1. 1.]\n",
      " [2. 1.]\n",
      " [3. 1.]] \n",
      "y\n",
      " [-1.   0.2  0.9  2.1]\n",
      "m,c 1.0 -0.95\n",
      "fit [-0.95  0.05  1.05  2.05]\n"
     ]
    }
   ],
   "source": [
    "x = np.array([0, 1, 2, 3])\n",
    "y = np.array([-1, 0.2, 0.9, 2.1])\n",
    "A = np.vstack([x, np.ones(len(x))]).T\n",
    "print(\"A\\n\",A,\"\\ny\\n\",y)\n",
    "m, c = np.linalg.lstsq(A, y, rcond=None)[0]\n",
    "print(\"m,c\",np.round(m,3),np.round(c,3))\n",
    "print(\"fit\",m*x+c)"
   ]
  },
  {
   "cell_type": "code",
   "execution_count": null,
   "metadata": {},
   "outputs": [],
   "source": []
  },
  {
   "cell_type": "code",
   "execution_count": null,
   "metadata": {},
   "outputs": [],
   "source": []
  }
 ],
 "metadata": {
  "kernelspec": {
   "display_name": "Python [conda env:miru]",
   "language": "python",
   "name": "conda-env-miru-py"
  },
  "language_info": {
   "codemirror_mode": {
    "name": "ipython",
    "version": 3
   },
   "file_extension": ".py",
   "mimetype": "text/x-python",
   "name": "python",
   "nbconvert_exporter": "python",
   "pygments_lexer": "ipython3",
   "version": "3.9.4"
  }
 },
 "nbformat": 4,
 "nbformat_minor": 4
}
